{
 "cells": [
  {
   "cell_type": "markdown",
   "id": "706f95a0-11c0-49b2-a7d1-6a553b374a13",
   "metadata": {},
   "source": [
    "### Movie Industry Data Analysis Project\n",
    "\n",
    "In this project we will explore correlations in the data set. Specifically we are making a hypothesis regarding the budget and the gross earnings. Specifically, we are hypothesizing that budget and gross earnings are strongly correlated, meaning when budget is high so are earnings and when budget is low so are earnings."
   ]
  },
  {
   "cell_type": "code",
   "execution_count": 52,
   "id": "092a7fa2-2167-4a82-9799-b8bfb1ec63cf",
   "metadata": {},
   "outputs": [],
   "source": [
    "# Import libraries\n",
    "import pandas as pd\n",
    "import seaborn as sns\n",
    "import numpy as np\n",
    "\n",
    "import matplotlib\n",
    "import matplotlib.pyplot as plt\n",
    "plt.style.use('ggplot')\n",
    "from matplotlib.pyplot import figure\n",
    "\n",
    "%matplotlib inline\n",
    "matplotlib.rcParams['figure.figsize'] = (12,8) # Adjusts the configuration of the plots we will create\n",
    "\n",
    "# Read in the data\n",
    "df = pd.read_csv(r'../resources/movies.csv')"
   ]
  },
  {
   "cell_type": "markdown",
   "id": "74f32fcb",
   "metadata": {},
   "source": [
    "The dataset was explored in Excel to get an idea of the type of data we're working with and to spot any immediate errors in the dataset. Through this exploration process we did indeed find a few errors which will need to be cleaned up in the next section. Some errors include:\n",
    "\n",
    "* The year column does not match the year from the released column for some rows. \n",
    "* The country column does not match the country from the released column."
   ]
  },
  {
   "cell_type": "markdown",
   "id": "ba5ad99d-b705-4bf6-9a20-2410b7c854ca",
   "metadata": {},
   "source": [
    "### Data Cleaning Section\n",
    "\n",
    "In this section we will clean up some of the inconsistancies in the data. First we will look for any missing values."
   ]
  },
  {
   "cell_type": "code",
   "execution_count": 53,
   "id": "80aefefa",
   "metadata": {},
   "outputs": [
    {
     "data": {
      "text/plain": [
       "name           0\n",
       "rating        77\n",
       "genre          0\n",
       "year           0\n",
       "released       2\n",
       "score          3\n",
       "votes          3\n",
       "director       0\n",
       "writer         3\n",
       "star           1\n",
       "country        3\n",
       "budget      2171\n",
       "gross        189\n",
       "company       17\n",
       "runtime        4\n",
       "dtype: int64"
      ]
     },
     "execution_count": 53,
     "metadata": {},
     "output_type": "execute_result"
    }
   ],
   "source": [
    "# Find any missing values in the data frame\n",
    "df.isna().sum()"
   ]
  },
  {
   "cell_type": "markdown",
   "id": "9586f5bf",
   "metadata": {},
   "source": [
    "This shows us that there are quite a significant number of missing values, particularly in the budget column. Since budget, gross and votes are crucial to our analysis, we need to remove the rows with empty data. We can still perform an analysis on the remaining data. "
   ]
  },
  {
   "cell_type": "code",
   "execution_count": 54,
   "id": "383a3b86",
   "metadata": {},
   "outputs": [
    {
     "data": {
      "text/plain": [
       "name         0\n",
       "rating      12\n",
       "genre        0\n",
       "year         0\n",
       "released     0\n",
       "score        0\n",
       "votes        0\n",
       "director     0\n",
       "writer       0\n",
       "star         0\n",
       "country      1\n",
       "budget       0\n",
       "gross        0\n",
       "company      2\n",
       "runtime      1\n",
       "dtype: int64"
      ]
     },
     "execution_count": 54,
     "metadata": {},
     "output_type": "execute_result"
    }
   ],
   "source": [
    "# Drop rows with missing values\n",
    "df = df.dropna(axis=0, subset=['budget', 'gross', 'votes'])\n",
    "\n",
    "# Now we can check what remaining values are missing\n",
    "df.isna().sum()"
   ]
  },
  {
   "cell_type": "markdown",
   "id": "7e89f2a5",
   "metadata": {},
   "source": [
    "As we can see, dropping the rows that we did resulted in significantly less missing data. Next we will tackle the incorrect year in the year column that we noticed during our data explortation phase in Excel. Note that rating, company and runtime are not pertinent to the analysis of the data and therefore will not fixed. However, country is as easy to fix as year is so we will tackle both."
   ]
  },
  {
   "cell_type": "code",
   "execution_count": 62,
   "id": "54fbf869",
   "metadata": {},
   "outputs": [
    {
     "data": {
      "text/html": [
       "<div>\n",
       "<style scoped>\n",
       "    .dataframe tbody tr th:only-of-type {\n",
       "        vertical-align: middle;\n",
       "    }\n",
       "\n",
       "    .dataframe tbody tr th {\n",
       "        vertical-align: top;\n",
       "    }\n",
       "\n",
       "    .dataframe thead th {\n",
       "        text-align: right;\n",
       "    }\n",
       "</style>\n",
       "<table border=\"1\" class=\"dataframe\">\n",
       "  <thead>\n",
       "    <tr style=\"text-align: right;\">\n",
       "      <th></th>\n",
       "      <th>name</th>\n",
       "      <th>rating</th>\n",
       "      <th>genre</th>\n",
       "      <th>year</th>\n",
       "      <th>released</th>\n",
       "      <th>score</th>\n",
       "      <th>votes</th>\n",
       "      <th>director</th>\n",
       "      <th>writer</th>\n",
       "      <th>star</th>\n",
       "      <th>country</th>\n",
       "      <th>budget</th>\n",
       "      <th>gross</th>\n",
       "      <th>company</th>\n",
       "      <th>runtime</th>\n",
       "    </tr>\n",
       "  </thead>\n",
       "  <tbody>\n",
       "    <tr>\n",
       "      <th>3203</th>\n",
       "      <td>Trojan War</td>\n",
       "      <td>PG-13</td>\n",
       "      <td>Comedy</td>\n",
       "      <td>1997</td>\n",
       "      <td>October 1, 1997 (Brazil)</td>\n",
       "      <td>5.7</td>\n",
       "      <td>5800</td>\n",
       "      <td>George Huang</td>\n",
       "      <td>Andy Burg</td>\n",
       "      <td>Will Friedle</td>\n",
       "      <td>Brazil</td>\n",
       "      <td>15000000</td>\n",
       "      <td>309</td>\n",
       "      <td>Daybreak</td>\n",
       "      <td>85.0</td>\n",
       "    </tr>\n",
       "    <tr>\n",
       "      <th>2417</th>\n",
       "      <td>Madadayo</td>\n",
       "      <td>NaN</td>\n",
       "      <td>Drama</td>\n",
       "      <td>1993</td>\n",
       "      <td>April 17, 1993 (Japan)</td>\n",
       "      <td>7.3</td>\n",
       "      <td>5100</td>\n",
       "      <td>Akira Kurosawa</td>\n",
       "      <td>Ishirô Honda</td>\n",
       "      <td>Tatsuo Matsumura</td>\n",
       "      <td>Japan</td>\n",
       "      <td>11900000</td>\n",
       "      <td>596</td>\n",
       "      <td>DENTSU Music And Entertainment</td>\n",
       "      <td>134.0</td>\n",
       "    </tr>\n",
       "    <tr>\n",
       "      <th>272</th>\n",
       "      <td>Parasite</td>\n",
       "      <td>R</td>\n",
       "      <td>Horror</td>\n",
       "      <td>1982</td>\n",
       "      <td>March 12, 1982 (United States)</td>\n",
       "      <td>3.9</td>\n",
       "      <td>2300</td>\n",
       "      <td>Charles Band</td>\n",
       "      <td>Alan J. Adler</td>\n",
       "      <td>Robert Glaudini</td>\n",
       "      <td>United States</td>\n",
       "      <td>800000</td>\n",
       "      <td>2270</td>\n",
       "      <td>Embassy Pictures</td>\n",
       "      <td>85.0</td>\n",
       "    </tr>\n",
       "    <tr>\n",
       "      <th>3681</th>\n",
       "      <td>Ginger Snaps</td>\n",
       "      <td>Not Rated</td>\n",
       "      <td>Drama</td>\n",
       "      <td>2001</td>\n",
       "      <td>May 11, 2001 (Canada)</td>\n",
       "      <td>6.8</td>\n",
       "      <td>43000</td>\n",
       "      <td>John Fawcett</td>\n",
       "      <td>Karen Walton</td>\n",
       "      <td>Emily Perkins</td>\n",
       "      <td>Canada</td>\n",
       "      <td>5000000</td>\n",
       "      <td>2554</td>\n",
       "      <td>Copperheart Entertainment</td>\n",
       "      <td>108.0</td>\n",
       "    </tr>\n",
       "    <tr>\n",
       "      <th>2434</th>\n",
       "      <td>Philadelphia Experiment II</td>\n",
       "      <td>PG-13</td>\n",
       "      <td>Action</td>\n",
       "      <td>1994</td>\n",
       "      <td>June 4, 1994 (South Korea)</td>\n",
       "      <td>4.5</td>\n",
       "      <td>1900</td>\n",
       "      <td>Stephen Cornwell</td>\n",
       "      <td>Wallace C. Bennett</td>\n",
       "      <td>Brad Johnson</td>\n",
       "      <td>South Korea</td>\n",
       "      <td>5000000</td>\n",
       "      <td>2970</td>\n",
       "      <td>Trimark Pictures</td>\n",
       "      <td>97.0</td>\n",
       "    </tr>\n",
       "  </tbody>\n",
       "</table>\n",
       "</div>"
      ],
      "text/plain": [
       "                            name     rating   genre  year  \\\n",
       "3203                  Trojan War      PG-13  Comedy  1997   \n",
       "2417                    Madadayo        NaN   Drama  1993   \n",
       "272                     Parasite          R  Horror  1982   \n",
       "3681                Ginger Snaps  Not Rated   Drama  2001   \n",
       "2434  Philadelphia Experiment II      PG-13  Action  1994   \n",
       "\n",
       "                            released  score  votes          director  \\\n",
       "3203        October 1, 1997 (Brazil)    5.7   5800      George Huang   \n",
       "2417          April 17, 1993 (Japan)    7.3   5100    Akira Kurosawa   \n",
       "272   March 12, 1982 (United States)    3.9   2300      Charles Band   \n",
       "3681           May 11, 2001 (Canada)    6.8  43000      John Fawcett   \n",
       "2434      June 4, 1994 (South Korea)    4.5   1900  Stephen Cornwell   \n",
       "\n",
       "                  writer              star        country    budget  gross  \\\n",
       "3203           Andy Burg      Will Friedle         Brazil  15000000    309   \n",
       "2417        Ishirô Honda  Tatsuo Matsumura          Japan  11900000    596   \n",
       "272        Alan J. Adler   Robert Glaudini  United States    800000   2270   \n",
       "3681        Karen Walton     Emily Perkins         Canada   5000000   2554   \n",
       "2434  Wallace C. Bennett      Brad Johnson    South Korea   5000000   2970   \n",
       "\n",
       "                             company  runtime  \n",
       "3203                        Daybreak     85.0  \n",
       "2417  DENTSU Music And Entertainment    134.0  \n",
       "272                 Embassy Pictures     85.0  \n",
       "3681       Copperheart Entertainment    108.0  \n",
       "2434                Trimark Pictures     97.0  "
      ]
     },
     "execution_count": 62,
     "metadata": {},
     "output_type": "execute_result"
    }
   ],
   "source": [
    "# We can simply replace the current values in the columns with the correct values from the released column\n",
    "df = df.sort_values(by=['gross'], inplace=False, ascending=True)\n",
    "df['year'] = df['released'].str.extract(pat = '([0-9]{4})').astype(int)\n",
    "df['country'] = df['released'].str.extract('.*\\((.*)\\).*').astype(str)\n",
    "df.head()"
   ]
  },
  {
   "cell_type": "markdown",
   "id": "bccbcfc3",
   "metadata": {},
   "source": [
    "Next, we will take a look at what datatypes our dataset currently is using for our variables."
   ]
  },
  {
   "cell_type": "code",
   "execution_count": 57,
   "id": "45057745",
   "metadata": {},
   "outputs": [
    {
     "name": "stdout",
     "output_type": "stream",
     "text": [
      "<class 'pandas.core.frame.DataFrame'>\n",
      "Int64Index: 5436 entries, 3203 to 5445\n",
      "Data columns (total 15 columns):\n",
      " #   Column    Non-Null Count  Dtype  \n",
      "---  ------    --------------  -----  \n",
      " 0   name      5436 non-null   object \n",
      " 1   rating    5424 non-null   object \n",
      " 2   genre     5436 non-null   object \n",
      " 3   year      5436 non-null   int32  \n",
      " 4   released  5436 non-null   object \n",
      " 5   score     5436 non-null   float64\n",
      " 6   votes     5436 non-null   float64\n",
      " 7   director  5436 non-null   object \n",
      " 8   writer    5436 non-null   object \n",
      " 9   star      5436 non-null   object \n",
      " 10  country   5436 non-null   object \n",
      " 11  budget    5436 non-null   float64\n",
      " 12  gross     5436 non-null   float64\n",
      " 13  company   5434 non-null   object \n",
      " 14  runtime   5435 non-null   float64\n",
      "dtypes: float64(5), int32(1), object(9)\n",
      "memory usage: 658.3+ KB\n"
     ]
    }
   ],
   "source": [
    "df.info()"
   ]
  },
  {
   "cell_type": "markdown",
   "id": "3c2d9ef0",
   "metadata": {},
   "source": [
    "We can see that votes, budget and gross are stored as floats but the decimal data is irrelevant, therefore we will convert this data to integers."
   ]
  },
  {
   "cell_type": "code",
   "execution_count": 58,
   "id": "7897a213",
   "metadata": {},
   "outputs": [
    {
     "name": "stdout",
     "output_type": "stream",
     "text": [
      "<class 'pandas.core.frame.DataFrame'>\n",
      "Int64Index: 5436 entries, 3203 to 5445\n",
      "Data columns (total 15 columns):\n",
      " #   Column    Non-Null Count  Dtype  \n",
      "---  ------    --------------  -----  \n",
      " 0   name      5436 non-null   object \n",
      " 1   rating    5424 non-null   object \n",
      " 2   genre     5436 non-null   object \n",
      " 3   year      5436 non-null   int32  \n",
      " 4   released  5436 non-null   object \n",
      " 5   score     5436 non-null   float64\n",
      " 6   votes     5436 non-null   int64  \n",
      " 7   director  5436 non-null   object \n",
      " 8   writer    5436 non-null   object \n",
      " 9   star      5436 non-null   object \n",
      " 10  country   5436 non-null   object \n",
      " 11  budget    5436 non-null   int64  \n",
      " 12  gross     5436 non-null   int64  \n",
      " 13  company   5434 non-null   object \n",
      " 14  runtime   5435 non-null   float64\n",
      "dtypes: float64(2), int32(1), int64(3), object(9)\n",
      "memory usage: 658.3+ KB\n"
     ]
    }
   ],
   "source": [
    "# Change budget and gross to int64 to avoid data loss\n",
    "df = df.astype({\"budget\":'int64', \"gross\":'int64', \"votes\":'int64'})\n",
    "df.info()"
   ]
  }
 ],
 "metadata": {
  "interpreter": {
   "hash": "f4f573a668f75c0a93cdd92351b8f1491fb3040b85910b5503ba13d7b3bb01ba"
  },
  "kernelspec": {
   "display_name": "Python 3.10.5 64-bit",
   "language": "python",
   "name": "python3"
  },
  "language_info": {
   "codemirror_mode": {
    "name": "ipython",
    "version": 3
   },
   "file_extension": ".py",
   "mimetype": "text/x-python",
   "name": "python",
   "nbconvert_exporter": "python",
   "pygments_lexer": "ipython3",
   "version": "3.10.5"
  }
 },
 "nbformat": 4,
 "nbformat_minor": 5
}
